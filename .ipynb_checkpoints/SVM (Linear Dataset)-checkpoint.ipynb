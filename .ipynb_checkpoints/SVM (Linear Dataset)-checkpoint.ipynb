{
 "cells": [
  {
   "cell_type": "code",
   "execution_count": 1,
   "id": "8eb1844e",
   "metadata": {},
   "outputs": [],
   "source": [
    "import pandas as pd\n",
    "import numpy as np\n",
    "import matplotlib.pyplot as plt\n",
    "import seaborn as sns"
   ]
  },
  {
   "cell_type": "code",
   "execution_count": 2,
   "id": "5394baf5",
   "metadata": {},
   "outputs": [],
   "source": [
    "data = pd.read_csv(\"iris.csv\")\n",
    "x = data.iloc[:, :-1].values\n",
    "y = data.iloc[:, -1].values"
   ]
  },
  {
   "cell_type": "code",
   "execution_count": 3,
   "id": "ac6123d5",
   "metadata": {},
   "outputs": [
    {
     "name": "stdout",
     "output_type": "stream",
     "text": [
      "[[4.9 3.  1.4 0.2]\n",
      " [4.7 3.2 1.3 0.2]\n",
      " [4.6 3.1 1.5 0.2]\n",
      " [5.  3.6 1.4 0.2]\n",
      " [5.4 3.9 1.7 0.4]\n",
      " [4.6 3.4 1.4 0.3]\n",
      " [5.  3.4 1.5 0.2]\n",
      " [4.4 2.9 1.4 0.2]\n",
      " [4.9 3.1 1.5 0.1]\n",
      " [5.4 3.7 1.5 0.2]\n",
      " [4.8 3.4 1.6 0.2]\n",
      " [4.8 3.  1.4 0.1]\n",
      " [4.3 3.  1.1 0.1]\n",
      " [5.8 4.  1.2 0.2]\n",
      " [5.7 4.4 1.5 0.4]\n",
      " [5.4 3.9 1.3 0.4]\n",
      " [5.1 3.5 1.4 0.3]\n",
      " [5.7 3.8 1.7 0.3]\n",
      " [5.1 3.8 1.5 0.3]\n",
      " [5.4 3.4 1.7 0.2]\n",
      " [5.1 3.7 1.5 0.4]\n",
      " [4.6 3.6 1.  0.2]\n",
      " [5.1 3.3 1.7 0.5]\n",
      " [4.8 3.4 1.9 0.2]\n",
      " [5.  3.  1.6 0.2]\n",
      " [5.  3.4 1.6 0.4]\n",
      " [5.2 3.5 1.5 0.2]\n",
      " [5.2 3.4 1.4 0.2]\n",
      " [4.7 3.2 1.6 0.2]\n",
      " [4.8 3.1 1.6 0.2]\n",
      " [5.4 3.4 1.5 0.4]\n",
      " [5.2 4.1 1.5 0.1]\n",
      " [5.5 4.2 1.4 0.2]\n",
      " [4.9 3.1 1.5 0.1]\n",
      " [5.  3.2 1.2 0.2]\n",
      " [5.5 3.5 1.3 0.2]\n",
      " [4.9 3.1 1.5 0.1]\n",
      " [4.4 3.  1.3 0.2]\n",
      " [5.1 3.4 1.5 0.2]\n",
      " [5.  3.5 1.3 0.3]\n",
      " [4.5 2.3 1.3 0.3]\n",
      " [4.4 3.2 1.3 0.2]\n",
      " [5.  3.5 1.6 0.6]\n",
      " [5.1 3.8 1.9 0.4]\n",
      " [4.8 3.  1.4 0.3]\n",
      " [5.1 3.8 1.6 0.2]\n",
      " [4.6 3.2 1.4 0.2]\n",
      " [5.3 3.7 1.5 0.2]\n",
      " [5.  3.3 1.4 0.2]\n",
      " [7.  3.2 4.7 1.4]\n",
      " [6.4 3.2 4.5 1.5]\n",
      " [6.9 3.1 4.9 1.5]\n",
      " [5.5 2.3 4.  1.3]\n",
      " [6.5 2.8 4.6 1.5]\n",
      " [5.7 2.8 4.5 1.3]\n",
      " [6.3 3.3 4.7 1.6]\n",
      " [4.9 2.4 3.3 1. ]\n",
      " [6.6 2.9 4.6 1.3]\n",
      " [5.2 2.7 3.9 1.4]\n",
      " [5.  2.  3.5 1. ]\n",
      " [5.9 3.  4.2 1.5]\n",
      " [6.  2.2 4.  1. ]\n",
      " [6.1 2.9 4.7 1.4]\n",
      " [5.6 2.9 3.6 1.3]\n",
      " [6.7 3.1 4.4 1.4]\n",
      " [5.6 3.  4.5 1.5]\n",
      " [5.8 2.7 4.1 1. ]\n",
      " [6.2 2.2 4.5 1.5]\n",
      " [5.6 2.5 3.9 1.1]\n",
      " [5.9 3.2 4.8 1.8]\n",
      " [6.1 2.8 4.  1.3]\n",
      " [6.3 2.5 4.9 1.5]\n",
      " [6.1 2.8 4.7 1.2]\n",
      " [6.4 2.9 4.3 1.3]\n",
      " [6.6 3.  4.4 1.4]\n",
      " [6.8 2.8 4.8 1.4]\n",
      " [6.7 3.  5.  1.7]\n",
      " [6.  2.9 4.5 1.5]\n",
      " [5.7 2.6 3.5 1. ]\n",
      " [5.5 2.4 3.8 1.1]\n",
      " [5.5 2.4 3.7 1. ]\n",
      " [5.8 2.7 3.9 1.2]\n",
      " [6.  2.7 5.1 1.6]\n",
      " [5.4 3.  4.5 1.5]\n",
      " [6.  3.4 4.5 1.6]\n",
      " [6.7 3.1 4.7 1.5]\n",
      " [6.3 2.3 4.4 1.3]\n",
      " [5.6 3.  4.1 1.3]\n",
      " [5.5 2.5 4.  1.3]\n",
      " [5.5 2.6 4.4 1.2]\n",
      " [6.1 3.  4.6 1.4]\n",
      " [5.8 2.6 4.  1.2]\n",
      " [5.  2.3 3.3 1. ]\n",
      " [5.6 2.7 4.2 1.3]\n",
      " [5.7 3.  4.2 1.2]\n",
      " [5.7 2.9 4.2 1.3]\n",
      " [6.2 2.9 4.3 1.3]\n",
      " [5.1 2.5 3.  1.1]\n",
      " [5.7 2.8 4.1 1.3]\n",
      " [6.3 3.3 6.  2.5]\n",
      " [5.8 2.7 5.1 1.9]\n",
      " [7.1 3.  5.9 2.1]\n",
      " [6.3 2.9 5.6 1.8]\n",
      " [6.5 3.  5.8 2.2]\n",
      " [7.6 3.  6.6 2.1]\n",
      " [4.9 2.5 4.5 1.7]\n",
      " [7.3 2.9 6.3 1.8]\n",
      " [6.7 2.5 5.8 1.8]\n",
      " [7.2 3.6 6.1 2.5]\n",
      " [6.5 3.2 5.1 2. ]\n",
      " [6.4 2.7 5.3 1.9]\n",
      " [6.8 3.  5.5 2.1]\n",
      " [5.7 2.5 5.  2. ]\n",
      " [5.8 2.8 5.1 2.4]\n",
      " [6.4 3.2 5.3 2.3]\n",
      " [6.5 3.  5.5 1.8]\n",
      " [7.7 3.8 6.7 2.2]\n",
      " [7.7 2.6 6.9 2.3]\n",
      " [6.  2.2 5.  1.5]\n",
      " [6.9 3.2 5.7 2.3]\n",
      " [5.6 2.8 4.9 2. ]\n",
      " [7.7 2.8 6.7 2. ]\n",
      " [6.3 2.7 4.9 1.8]\n",
      " [6.7 3.3 5.7 2.1]\n",
      " [7.2 3.2 6.  1.8]\n",
      " [6.2 2.8 4.8 1.8]\n",
      " [6.1 3.  4.9 1.8]\n",
      " [6.4 2.8 5.6 2.1]\n",
      " [7.2 3.  5.8 1.6]\n",
      " [7.4 2.8 6.1 1.9]\n",
      " [7.9 3.8 6.4 2. ]\n",
      " [6.4 2.8 5.6 2.2]\n",
      " [6.3 2.8 5.1 1.5]\n",
      " [6.1 2.6 5.6 1.4]\n",
      " [7.7 3.  6.1 2.3]\n",
      " [6.3 3.4 5.6 2.4]\n",
      " [6.4 3.1 5.5 1.8]\n",
      " [6.  3.  4.8 1.8]\n",
      " [6.9 3.1 5.4 2.1]\n",
      " [6.7 3.1 5.6 2.4]\n",
      " [6.9 3.1 5.1 2.3]\n",
      " [5.8 2.7 5.1 1.9]\n",
      " [6.8 3.2 5.9 2.3]\n",
      " [6.7 3.3 5.7 2.5]\n",
      " [6.7 3.  5.2 2.3]\n",
      " [6.3 2.5 5.  1.9]\n",
      " [6.5 3.  5.2 2. ]\n",
      " [6.2 3.4 5.4 2.3]\n",
      " [5.9 3.  5.1 1.8]]\n"
     ]
    }
   ],
   "source": [
    "print(x)"
   ]
  },
  {
   "cell_type": "code",
   "execution_count": 4,
   "id": "c78c472a",
   "metadata": {},
   "outputs": [
    {
     "data": {
      "text/plain": [
       "149"
      ]
     },
     "execution_count": 4,
     "metadata": {},
     "output_type": "execute_result"
    }
   ],
   "source": [
    "len(x)\n"
   ]
  },
  {
   "cell_type": "code",
   "execution_count": 5,
   "id": "56872b57",
   "metadata": {},
   "outputs": [
    {
     "name": "stdout",
     "output_type": "stream",
     "text": [
      "['Iris-setosa' 'Iris-setosa' 'Iris-setosa' 'Iris-setosa' 'Iris-setosa'\n",
      " 'Iris-setosa' 'Iris-setosa' 'Iris-setosa' 'Iris-setosa' 'Iris-setosa'\n",
      " 'Iris-setosa' 'Iris-setosa' 'Iris-setosa' 'Iris-setosa' 'Iris-setosa'\n",
      " 'Iris-setosa' 'Iris-setosa' 'Iris-setosa' 'Iris-setosa' 'Iris-setosa'\n",
      " 'Iris-setosa' 'Iris-setosa' 'Iris-setosa' 'Iris-setosa' 'Iris-setosa'\n",
      " 'Iris-setosa' 'Iris-setosa' 'Iris-setosa' 'Iris-setosa' 'Iris-setosa'\n",
      " 'Iris-setosa' 'Iris-setosa' 'Iris-setosa' 'Iris-setosa' 'Iris-setosa'\n",
      " 'Iris-setosa' 'Iris-setosa' 'Iris-setosa' 'Iris-setosa' 'Iris-setosa'\n",
      " 'Iris-setosa' 'Iris-setosa' 'Iris-setosa' 'Iris-setosa' 'Iris-setosa'\n",
      " 'Iris-setosa' 'Iris-setosa' 'Iris-setosa' 'Iris-setosa' 'Iris-versicolor'\n",
      " 'Iris-versicolor' 'Iris-versicolor' 'Iris-versicolor' 'Iris-versicolor'\n",
      " 'Iris-versicolor' 'Iris-versicolor' 'Iris-versicolor' 'Iris-versicolor'\n",
      " 'Iris-versicolor' 'Iris-versicolor' 'Iris-versicolor' 'Iris-versicolor'\n",
      " 'Iris-versicolor' 'Iris-versicolor' 'Iris-versicolor' 'Iris-versicolor'\n",
      " 'Iris-versicolor' 'Iris-versicolor' 'Iris-versicolor' 'Iris-versicolor'\n",
      " 'Iris-versicolor' 'Iris-versicolor' 'Iris-versicolor' 'Iris-versicolor'\n",
      " 'Iris-versicolor' 'Iris-versicolor' 'Iris-versicolor' 'Iris-versicolor'\n",
      " 'Iris-versicolor' 'Iris-versicolor' 'Iris-versicolor' 'Iris-versicolor'\n",
      " 'Iris-versicolor' 'Iris-versicolor' 'Iris-versicolor' 'Iris-versicolor'\n",
      " 'Iris-versicolor' 'Iris-versicolor' 'Iris-versicolor' 'Iris-versicolor'\n",
      " 'Iris-versicolor' 'Iris-versicolor' 'Iris-versicolor' 'Iris-versicolor'\n",
      " 'Iris-versicolor' 'Iris-versicolor' 'Iris-versicolor' 'Iris-versicolor'\n",
      " 'Iris-versicolor' 'Iris-virginica' 'Iris-virginica' 'Iris-virginica'\n",
      " 'Iris-virginica' 'Iris-virginica' 'Iris-virginica' 'Iris-virginica'\n",
      " 'Iris-virginica' 'Iris-virginica' 'Iris-virginica' 'Iris-virginica'\n",
      " 'Iris-virginica' 'Iris-virginica' 'Iris-virginica' 'Iris-virginica'\n",
      " 'Iris-virginica' 'Iris-virginica' 'Iris-virginica' 'Iris-virginica'\n",
      " 'Iris-virginica' 'Iris-virginica' 'Iris-virginica' 'Iris-virginica'\n",
      " 'Iris-virginica' 'Iris-virginica' 'Iris-virginica' 'Iris-virginica'\n",
      " 'Iris-virginica' 'Iris-virginica' 'Iris-virginica' 'Iris-virginica'\n",
      " 'Iris-virginica' 'Iris-virginica' 'Iris-virginica' 'Iris-virginica'\n",
      " 'Iris-virginica' 'Iris-virginica' 'Iris-virginica' 'Iris-virginica'\n",
      " 'Iris-virginica' 'Iris-virginica' 'Iris-virginica' 'Iris-virginica'\n",
      " 'Iris-virginica' 'Iris-virginica' 'Iris-virginica' 'Iris-virginica'\n",
      " 'Iris-virginica' 'Iris-virginica' 'Iris-virginica']\n"
     ]
    },
    {
     "data": {
      "text/plain": [
       "149"
      ]
     },
     "execution_count": 5,
     "metadata": {},
     "output_type": "execute_result"
    }
   ],
   "source": [
    "print(y)\n",
    "len(y)"
   ]
  },
  {
   "cell_type": "code",
   "execution_count": 6,
   "id": "89b2c9d0",
   "metadata": {},
   "outputs": [],
   "source": [
    "# Encoding Categorical Dependent Variable\n",
    "\n",
    "from sklearn.preprocessing import LabelEncoder\n",
    "l_encode = LabelEncoder()\n",
    "y = l_encode.fit_transform(y)"
   ]
  },
  {
   "cell_type": "code",
   "execution_count": 7,
   "id": "a9cd1e98",
   "metadata": {},
   "outputs": [
    {
     "name": "stdout",
     "output_type": "stream",
     "text": [
      "[0 0 0 0 0 0 0 0 0 0 0 0 0 0 0 0 0 0 0 0 0 0 0 0 0 0 0 0 0 0 0 0 0 0 0 0 0\n",
      " 0 0 0 0 0 0 0 0 0 0 0 0 1 1 1 1 1 1 1 1 1 1 1 1 1 1 1 1 1 1 1 1 1 1 1 1 1\n",
      " 1 1 1 1 1 1 1 1 1 1 1 1 1 1 1 1 1 1 1 1 1 1 1 1 1 2 2 2 2 2 2 2 2 2 2 2 2\n",
      " 2 2 2 2 2 2 2 2 2 2 2 2 2 2 2 2 2 2 2 2 2 2 2 2 2 2 2 2 2 2 2 2 2 2 2 2 2\n",
      " 2]\n"
     ]
    },
    {
     "data": {
      "text/plain": [
       "149"
      ]
     },
     "execution_count": 7,
     "metadata": {},
     "output_type": "execute_result"
    }
   ],
   "source": [
    "print(y)\n",
    "len(y)"
   ]
  },
  {
   "cell_type": "code",
   "execution_count": 8,
   "id": "d409e332",
   "metadata": {},
   "outputs": [],
   "source": [
    "# Splitting Train & Test Set\n",
    "\n",
    "from sklearn.model_selection import train_test_split\n",
    "x_train, x_test, y_train, y_test = train_test_split(x, y, test_size = 0.2, random_state = 21)"
   ]
  },
  {
   "cell_type": "code",
   "execution_count": 9,
   "id": "4d6c5fa6",
   "metadata": {},
   "outputs": [
    {
     "name": "stdout",
     "output_type": "stream",
     "text": [
      "[[4.4 3.2 1.3 0.2]\n",
      " [7.9 3.8 6.4 2. ]\n",
      " [6.1 2.8 4.  1.3]\n",
      " [4.6 3.2 1.4 0.2]\n",
      " [6.2 2.8 4.8 1.8]\n",
      " [5.7 2.8 4.5 1.3]\n",
      " [6.7 3.1 4.7 1.5]\n",
      " [5.8 2.8 5.1 2.4]\n",
      " [5.1 3.4 1.5 0.2]\n",
      " [7.1 3.  5.9 2.1]\n",
      " [5.9 3.  5.1 1.8]\n",
      " [6.3 3.4 5.6 2.4]\n",
      " [7.7 3.  6.1 2.3]\n",
      " [5.1 2.5 3.  1.1]\n",
      " [6.9 3.1 5.1 2.3]\n",
      " [4.9 3.1 1.5 0.1]\n",
      " [4.4 3.  1.3 0.2]\n",
      " [5.8 4.  1.2 0.2]\n",
      " [5.6 2.5 3.9 1.1]\n",
      " [4.8 3.  1.4 0.1]\n",
      " [5.5 2.3 4.  1.3]\n",
      " [7.  3.2 4.7 1.4]\n",
      " [5.6 3.  4.5 1.5]\n",
      " [7.7 2.6 6.9 2.3]\n",
      " [6.3 3.3 4.7 1.6]\n",
      " [6.2 2.2 4.5 1.5]\n",
      " [5.  3.6 1.4 0.2]\n",
      " [5.7 3.8 1.7 0.3]\n",
      " [6.  2.2 5.  1.5]\n",
      " [4.8 3.1 1.6 0.2]\n",
      " [4.8 3.4 1.6 0.2]\n",
      " [5.1 3.3 1.7 0.5]\n",
      " [4.6 3.1 1.5 0.2]\n",
      " [5.2 4.1 1.5 0.1]\n",
      " [6.2 2.9 4.3 1.3]\n",
      " [5.5 2.6 4.4 1.2]\n",
      " [5.2 3.4 1.4 0.2]\n",
      " [6.7 2.5 5.8 1.8]\n",
      " [6.9 3.1 4.9 1.5]\n",
      " [4.7 3.2 1.3 0.2]\n",
      " [5.1 3.5 1.4 0.3]\n",
      " [7.3 2.9 6.3 1.8]\n",
      " [6.3 2.3 4.4 1.3]\n",
      " [5.  3.2 1.2 0.2]\n",
      " [7.6 3.  6.6 2.1]\n",
      " [5.6 2.7 4.2 1.3]\n",
      " [6.3 2.8 5.1 1.5]\n",
      " [5.1 3.8 1.9 0.4]\n",
      " [7.2 3.6 6.1 2.5]\n",
      " [5.  3.5 1.3 0.3]\n",
      " [5.3 3.7 1.5 0.2]\n",
      " [5.7 2.6 3.5 1. ]\n",
      " [6.5 3.  5.5 1.8]\n",
      " [6.7 3.1 4.4 1.4]\n",
      " [5.7 3.  4.2 1.2]\n",
      " [5.  3.  1.6 0.2]\n",
      " [6.4 2.8 5.6 2.2]\n",
      " [5.2 2.7 3.9 1.4]\n",
      " [4.9 3.1 1.5 0.1]\n",
      " [7.7 2.8 6.7 2. ]\n",
      " [6.3 2.5 4.9 1.5]\n",
      " [5.8 2.7 4.1 1. ]\n",
      " [7.4 2.8 6.1 1.9]\n",
      " [5.5 2.4 3.8 1.1]\n",
      " [4.9 2.5 4.5 1.7]\n",
      " [5.6 2.9 3.6 1.3]\n",
      " [6.7 3.3 5.7 2.5]\n",
      " [6.4 3.2 5.3 2.3]\n",
      " [5.5 4.2 1.4 0.2]\n",
      " [5.  3.4 1.6 0.4]\n",
      " [6.5 3.  5.8 2.2]\n",
      " [6.3 2.9 5.6 1.8]\n",
      " [5.4 3.4 1.5 0.4]\n",
      " [6.7 3.  5.  1.7]\n",
      " [6.2 3.4 5.4 2.3]\n",
      " [6.3 3.3 6.  2.5]\n",
      " [6.6 2.9 4.6 1.3]\n",
      " [5.9 3.2 4.8 1.8]\n",
      " [7.2 3.  5.8 1.6]\n",
      " [4.9 3.  1.4 0.2]\n",
      " [6.5 3.2 5.1 2. ]\n",
      " [6.4 2.8 5.6 2.1]\n",
      " [5.4 3.7 1.5 0.2]\n",
      " [4.7 3.2 1.6 0.2]\n",
      " [6.1 3.  4.6 1.4]\n",
      " [6.4 3.1 5.5 1.8]\n",
      " [5.  3.4 1.5 0.2]\n",
      " [5.4 3.9 1.3 0.4]\n",
      " [6.  2.7 5.1 1.6]\n",
      " [7.2 3.2 6.  1.8]\n",
      " [4.3 3.  1.1 0.1]\n",
      " [4.9 3.1 1.5 0.1]\n",
      " [5.8 2.6 4.  1.2]\n",
      " [6.7 3.  5.2 2.3]\n",
      " [6.3 2.5 5.  1.9]\n",
      " [5.5 3.5 1.3 0.2]\n",
      " [6.7 3.1 5.6 2.4]\n",
      " [5.5 2.4 3.7 1. ]\n",
      " [4.6 3.4 1.4 0.3]\n",
      " [6.5 2.8 4.6 1.5]\n",
      " [6.9 3.1 5.4 2.1]\n",
      " [6.4 3.2 4.5 1.5]\n",
      " [5.1 3.8 1.5 0.3]\n",
      " [6.1 2.6 5.6 1.4]\n",
      " [6.9 3.2 5.7 2.3]\n",
      " [5.  2.  3.5 1. ]\n",
      " [6.  3.4 4.5 1.6]\n",
      " [5.8 2.7 5.1 1.9]\n",
      " [6.5 3.  5.2 2. ]\n",
      " [6.3 2.7 4.9 1.8]\n",
      " [6.  2.2 4.  1. ]\n",
      " [6.4 2.7 5.3 1.9]\n",
      " [6.1 2.8 4.7 1.2]\n",
      " [5.7 2.8 4.1 1.3]\n",
      " [5.6 2.8 4.9 2. ]\n",
      " [5.7 2.5 5.  2. ]\n",
      " [5.  3.3 1.4 0.2]\n",
      " [5.4 3.9 1.7 0.4]\n",
      " [4.9 2.4 3.3 1. ]]\n"
     ]
    }
   ],
   "source": [
    "print(x_train)"
   ]
  },
  {
   "cell_type": "code",
   "execution_count": 10,
   "id": "2b153c65",
   "metadata": {},
   "outputs": [
    {
     "name": "stdout",
     "output_type": "stream",
     "text": [
      "[[4.4 3.2 1.3 0.2]\n",
      " [7.9 3.8 6.4 2. ]\n",
      " [6.1 2.8 4.  1.3]\n",
      " [4.6 3.2 1.4 0.2]\n",
      " [6.2 2.8 4.8 1.8]\n",
      " [5.7 2.8 4.5 1.3]\n",
      " [6.7 3.1 4.7 1.5]\n",
      " [5.8 2.8 5.1 2.4]\n",
      " [5.1 3.4 1.5 0.2]\n",
      " [7.1 3.  5.9 2.1]\n",
      " [5.9 3.  5.1 1.8]\n",
      " [6.3 3.4 5.6 2.4]\n",
      " [7.7 3.  6.1 2.3]\n",
      " [5.1 2.5 3.  1.1]\n",
      " [6.9 3.1 5.1 2.3]\n",
      " [4.9 3.1 1.5 0.1]\n",
      " [4.4 3.  1.3 0.2]\n",
      " [5.8 4.  1.2 0.2]\n",
      " [5.6 2.5 3.9 1.1]\n",
      " [4.8 3.  1.4 0.1]\n",
      " [5.5 2.3 4.  1.3]\n",
      " [7.  3.2 4.7 1.4]\n",
      " [5.6 3.  4.5 1.5]\n",
      " [7.7 2.6 6.9 2.3]\n",
      " [6.3 3.3 4.7 1.6]\n",
      " [6.2 2.2 4.5 1.5]\n",
      " [5.  3.6 1.4 0.2]\n",
      " [5.7 3.8 1.7 0.3]\n",
      " [6.  2.2 5.  1.5]\n",
      " [4.8 3.1 1.6 0.2]\n",
      " [4.8 3.4 1.6 0.2]\n",
      " [5.1 3.3 1.7 0.5]\n",
      " [4.6 3.1 1.5 0.2]\n",
      " [5.2 4.1 1.5 0.1]\n",
      " [6.2 2.9 4.3 1.3]\n",
      " [5.5 2.6 4.4 1.2]\n",
      " [5.2 3.4 1.4 0.2]\n",
      " [6.7 2.5 5.8 1.8]\n",
      " [6.9 3.1 4.9 1.5]\n",
      " [4.7 3.2 1.3 0.2]\n",
      " [5.1 3.5 1.4 0.3]\n",
      " [7.3 2.9 6.3 1.8]\n",
      " [6.3 2.3 4.4 1.3]\n",
      " [5.  3.2 1.2 0.2]\n",
      " [7.6 3.  6.6 2.1]\n",
      " [5.6 2.7 4.2 1.3]\n",
      " [6.3 2.8 5.1 1.5]\n",
      " [5.1 3.8 1.9 0.4]\n",
      " [7.2 3.6 6.1 2.5]\n",
      " [5.  3.5 1.3 0.3]\n",
      " [5.3 3.7 1.5 0.2]\n",
      " [5.7 2.6 3.5 1. ]\n",
      " [6.5 3.  5.5 1.8]\n",
      " [6.7 3.1 4.4 1.4]\n",
      " [5.7 3.  4.2 1.2]\n",
      " [5.  3.  1.6 0.2]\n",
      " [6.4 2.8 5.6 2.2]\n",
      " [5.2 2.7 3.9 1.4]\n",
      " [4.9 3.1 1.5 0.1]\n",
      " [7.7 2.8 6.7 2. ]\n",
      " [6.3 2.5 4.9 1.5]\n",
      " [5.8 2.7 4.1 1. ]\n",
      " [7.4 2.8 6.1 1.9]\n",
      " [5.5 2.4 3.8 1.1]\n",
      " [4.9 2.5 4.5 1.7]\n",
      " [5.6 2.9 3.6 1.3]\n",
      " [6.7 3.3 5.7 2.5]\n",
      " [6.4 3.2 5.3 2.3]\n",
      " [5.5 4.2 1.4 0.2]\n",
      " [5.  3.4 1.6 0.4]\n",
      " [6.5 3.  5.8 2.2]\n",
      " [6.3 2.9 5.6 1.8]\n",
      " [5.4 3.4 1.5 0.4]\n",
      " [6.7 3.  5.  1.7]\n",
      " [6.2 3.4 5.4 2.3]\n",
      " [6.3 3.3 6.  2.5]\n",
      " [6.6 2.9 4.6 1.3]\n",
      " [5.9 3.2 4.8 1.8]\n",
      " [7.2 3.  5.8 1.6]\n",
      " [4.9 3.  1.4 0.2]\n",
      " [6.5 3.2 5.1 2. ]\n",
      " [6.4 2.8 5.6 2.1]\n",
      " [5.4 3.7 1.5 0.2]\n",
      " [4.7 3.2 1.6 0.2]\n",
      " [6.1 3.  4.6 1.4]\n",
      " [6.4 3.1 5.5 1.8]\n",
      " [5.  3.4 1.5 0.2]\n",
      " [5.4 3.9 1.3 0.4]\n",
      " [6.  2.7 5.1 1.6]\n",
      " [7.2 3.2 6.  1.8]\n",
      " [4.3 3.  1.1 0.1]\n",
      " [4.9 3.1 1.5 0.1]\n",
      " [5.8 2.6 4.  1.2]\n",
      " [6.7 3.  5.2 2.3]\n",
      " [6.3 2.5 5.  1.9]\n",
      " [5.5 3.5 1.3 0.2]\n",
      " [6.7 3.1 5.6 2.4]\n",
      " [5.5 2.4 3.7 1. ]\n",
      " [4.6 3.4 1.4 0.3]\n",
      " [6.5 2.8 4.6 1.5]\n",
      " [6.9 3.1 5.4 2.1]\n",
      " [6.4 3.2 4.5 1.5]\n",
      " [5.1 3.8 1.5 0.3]\n",
      " [6.1 2.6 5.6 1.4]\n",
      " [6.9 3.2 5.7 2.3]\n",
      " [5.  2.  3.5 1. ]\n",
      " [6.  3.4 4.5 1.6]\n",
      " [5.8 2.7 5.1 1.9]\n",
      " [6.5 3.  5.2 2. ]\n",
      " [6.3 2.7 4.9 1.8]\n",
      " [6.  2.2 4.  1. ]\n",
      " [6.4 2.7 5.3 1.9]\n",
      " [6.1 2.8 4.7 1.2]\n",
      " [5.7 2.8 4.1 1.3]\n",
      " [5.6 2.8 4.9 2. ]\n",
      " [5.7 2.5 5.  2. ]\n",
      " [5.  3.3 1.4 0.2]\n",
      " [5.4 3.9 1.7 0.4]\n",
      " [4.9 2.4 3.3 1. ]]\n"
     ]
    }
   ],
   "source": [
    "print(x_train)"
   ]
  },
  {
   "cell_type": "code",
   "execution_count": 11,
   "id": "753744d7",
   "metadata": {},
   "outputs": [
    {
     "data": {
      "text/plain": [
       "119"
      ]
     },
     "execution_count": 11,
     "metadata": {},
     "output_type": "execute_result"
    }
   ],
   "source": [
    "len(x_train)"
   ]
  },
  {
   "cell_type": "code",
   "execution_count": 12,
   "id": "e1155187",
   "metadata": {},
   "outputs": [
    {
     "name": "stdout",
     "output_type": "stream",
     "text": [
      "[[5.  2.3 3.3 1. ]\n",
      " [4.8 3.  1.4 0.3]\n",
      " [4.4 2.9 1.4 0.2]\n",
      " [4.6 3.6 1.  0.2]\n",
      " [5.7 2.9 4.2 1.3]\n",
      " [6.8 2.8 4.8 1.4]\n",
      " [5.1 3.7 1.5 0.4]\n",
      " [6.7 3.3 5.7 2.1]\n",
      " [5.2 3.5 1.5 0.2]\n",
      " [5.4 3.4 1.7 0.2]\n",
      " [5.8 2.7 3.9 1.2]\n",
      " [5.5 2.5 4.  1.3]\n",
      " [6.8 3.2 5.9 2.3]\n",
      " [7.7 3.8 6.7 2.2]\n",
      " [4.8 3.4 1.9 0.2]\n",
      " [6.  2.9 4.5 1.5]\n",
      " [6.  3.  4.8 1.8]\n",
      " [6.4 2.9 4.3 1.3]\n",
      " [5.7 4.4 1.5 0.4]\n",
      " [5.8 2.7 5.1 1.9]\n",
      " [6.1 3.  4.9 1.8]\n",
      " [6.1 2.9 4.7 1.4]\n",
      " [5.4 3.  4.5 1.5]\n",
      " [6.6 3.  4.4 1.4]\n",
      " [5.  3.5 1.6 0.6]\n",
      " [5.9 3.  4.2 1.5]\n",
      " [4.5 2.3 1.3 0.3]\n",
      " [5.1 3.8 1.6 0.2]\n",
      " [5.6 3.  4.1 1.3]\n",
      " [6.8 3.  5.5 2.1]]\n"
     ]
    }
   ],
   "source": [
    "print(x_test)"
   ]
  },
  {
   "cell_type": "code",
   "execution_count": 13,
   "id": "69f76e03",
   "metadata": {},
   "outputs": [
    {
     "data": {
      "text/plain": [
       "30"
      ]
     },
     "execution_count": 13,
     "metadata": {},
     "output_type": "execute_result"
    }
   ],
   "source": [
    "len(x_test)"
   ]
  },
  {
   "cell_type": "code",
   "execution_count": 14,
   "id": "74a9ce25",
   "metadata": {},
   "outputs": [
    {
     "name": "stdout",
     "output_type": "stream",
     "text": [
      "[0 2 1 0 2 1 1 2 0 2 2 2 2 1 2 0 0 0 1 0 1 1 1 2 1 1 0 0 2 0 0 0 0 0 1 1 0\n",
      " 2 1 0 0 2 1 0 2 1 2 0 2 0 0 1 2 1 1 0 2 1 0 2 1 1 2 1 2 1 2 2 0 0 2 2 0 1\n",
      " 2 2 1 1 2 0 2 2 0 0 1 2 0 0 1 2 0 0 1 2 2 0 2 1 0 1 2 1 0 2 2 1 1 2 2 2 1\n",
      " 2 1 1 2 2 0 0 1]\n"
     ]
    }
   ],
   "source": [
    "print(y_train)"
   ]
  },
  {
   "cell_type": "code",
   "execution_count": 15,
   "id": "0def9476",
   "metadata": {},
   "outputs": [
    {
     "data": {
      "text/plain": [
       "119"
      ]
     },
     "execution_count": 15,
     "metadata": {},
     "output_type": "execute_result"
    }
   ],
   "source": [
    "len(y_train)"
   ]
  },
  {
   "cell_type": "code",
   "execution_count": 16,
   "id": "4e067d4e",
   "metadata": {},
   "outputs": [
    {
     "name": "stdout",
     "output_type": "stream",
     "text": [
      "[1 0 0 0 1 1 0 2 0 0 1 1 2 2 0 1 2 1 0 2 2 1 1 1 0 1 0 0 1 2]\n"
     ]
    }
   ],
   "source": [
    "print(y_test)"
   ]
  },
  {
   "cell_type": "code",
   "execution_count": 17,
   "id": "136ba2f0",
   "metadata": {},
   "outputs": [
    {
     "data": {
      "text/plain": [
       "30"
      ]
     },
     "execution_count": 17,
     "metadata": {},
     "output_type": "execute_result"
    }
   ],
   "source": [
    "len(y_test)"
   ]
  },
  {
   "cell_type": "code",
   "execution_count": 18,
   "id": "c0075131",
   "metadata": {},
   "outputs": [],
   "source": [
    "# Defining SVM Classifier\n",
    "\n",
    "from sklearn.svm import LinearSVC\n",
    "svm = LinearSVC(random_state = 21)"
   ]
  },
  {
   "cell_type": "code",
   "execution_count": 19,
   "id": "4d85a346",
   "metadata": {},
   "outputs": [
    {
     "name": "stderr",
     "output_type": "stream",
     "text": [
      "D:\\Anaconda\\lib\\site-packages\\sklearn\\svm\\_base.py:985: ConvergenceWarning: Liblinear failed to converge, increase the number of iterations.\n",
      "  warnings.warn(\"Liblinear failed to converge, increase \"\n"
     ]
    },
    {
     "data": {
      "text/plain": [
       "LinearSVC(random_state=21)"
      ]
     },
     "execution_count": 19,
     "metadata": {},
     "output_type": "execute_result"
    }
   ],
   "source": [
    "# Training SVM Classifier\n",
    "\n",
    "svm.fit(x_train, y_train)"
   ]
  },
  {
   "cell_type": "code",
   "execution_count": 20,
   "id": "67fc2880",
   "metadata": {},
   "outputs": [
    {
     "name": "stdout",
     "output_type": "stream",
     "text": [
      "[1 0 0 0 1 1 0 2 0 0 1 1 2 2 0 1 2 1 0 2 2 1 2 1 0 1 0 0 1 2]\n"
     ]
    }
   ],
   "source": [
    "# Predicting Test Result\n",
    "\n",
    "y_pred = svm.predict(x_test)\n",
    "print(y_pred)"
   ]
  },
  {
   "cell_type": "code",
   "execution_count": 21,
   "id": "2c827c99",
   "metadata": {},
   "outputs": [
    {
     "name": "stdout",
     "output_type": "stream",
     "text": [
      "[[1]\n",
      " [0]\n",
      " [0]\n",
      " [0]\n",
      " [1]\n",
      " [1]\n",
      " [0]\n",
      " [2]\n",
      " [0]\n",
      " [0]\n",
      " [1]\n",
      " [1]\n",
      " [2]\n",
      " [2]\n",
      " [0]\n",
      " [1]\n",
      " [2]\n",
      " [1]\n",
      " [0]\n",
      " [2]\n",
      " [2]\n",
      " [1]\n",
      " [2]\n",
      " [1]\n",
      " [0]\n",
      " [1]\n",
      " [0]\n",
      " [0]\n",
      " [1]\n",
      " [2]]\n"
     ]
    }
   ],
   "source": [
    "y_pred_vertical = y_pred.reshape(len(y_pred),1)\n",
    "print(y_pred_vertical)"
   ]
  },
  {
   "cell_type": "code",
   "execution_count": 22,
   "id": "3fe85d19",
   "metadata": {},
   "outputs": [
    {
     "name": "stdout",
     "output_type": "stream",
     "text": [
      "[[1]\n",
      " [0]\n",
      " [0]\n",
      " [0]\n",
      " [1]\n",
      " [1]\n",
      " [0]\n",
      " [2]\n",
      " [0]\n",
      " [0]\n",
      " [1]\n",
      " [1]\n",
      " [2]\n",
      " [2]\n",
      " [0]\n",
      " [1]\n",
      " [2]\n",
      " [1]\n",
      " [0]\n",
      " [2]\n",
      " [2]\n",
      " [1]\n",
      " [1]\n",
      " [1]\n",
      " [0]\n",
      " [1]\n",
      " [0]\n",
      " [0]\n",
      " [1]\n",
      " [2]]\n"
     ]
    }
   ],
   "source": [
    "y_true_vertical = y_test.reshape(len(y_test), 1)\n",
    "print (y_true_vertical)"
   ]
  },
  {
   "cell_type": "code",
   "execution_count": 23,
   "id": "1519fa89",
   "metadata": {},
   "outputs": [
    {
     "name": "stdout",
     "output_type": "stream",
     "text": [
      "[[1 1]\n",
      " [0 0]\n",
      " [0 0]\n",
      " [0 0]\n",
      " [1 1]\n",
      " [1 1]\n",
      " [0 0]\n",
      " [2 2]\n",
      " [0 0]\n",
      " [0 0]\n",
      " [1 1]\n",
      " [1 1]\n",
      " [2 2]\n",
      " [2 2]\n",
      " [0 0]\n",
      " [1 1]\n",
      " [2 2]\n",
      " [1 1]\n",
      " [0 0]\n",
      " [2 2]\n",
      " [2 2]\n",
      " [1 1]\n",
      " [1 2]\n",
      " [1 1]\n",
      " [0 0]\n",
      " [1 1]\n",
      " [0 0]\n",
      " [0 0]\n",
      " [1 1]\n",
      " [2 2]]\n"
     ]
    }
   ],
   "source": [
    "true_pred = np.concatenate((y_true_vertical, y_pred_vertical), axis = 1)\n",
    "print(true_pred)"
   ]
  },
  {
   "cell_type": "code",
   "execution_count": 24,
   "id": "c063cd1e",
   "metadata": {},
   "outputs": [
    {
     "data": {
      "image/png": "[encoded data removed]",
      "text/plain": [
       "<Figure size 432x288 with 2 Axes>"
      ]
     },
     "metadata": {
      "needs_background": "light"
     },
     "output_type": "display_data"
    }
   ],
   "source": [
    "# Plotting Confusion Matrix\n",
    "\n",
    "from sklearn.metrics import confusion_matrix\n",
    "confusion_mat = confusion_matrix(y_test, y_pred)\n",
    "sns.heatmap(confusion_mat, annot=True)\n",
    "plt.xlabel(\"Predicted Output\")\n",
    "plt.ylabel(\"True Label\")\n",
    "plt.title(\"Confusion Matrix\")\n",
    "plt.show()"
   ]
  },
  {
   "cell_type": "code",
   "execution_count": 25,
   "id": "77a167db",
   "metadata": {},
   "outputs": [
    {
     "data": {
      "text/plain": [
       "0.9666666666666667"
      ]
     },
     "execution_count": 25,
     "metadata": {},
     "output_type": "execute_result"
    }
   ],
   "source": [
    "# Classifier Accuracy Measurement\n",
    "\n",
    "from sklearn.metrics import accuracy_score\n",
    "accuracy_score(y_test, y_pred)\n"
   ]
  },
  {
   "cell_type": "code",
   "execution_count": 26,
   "id": "7b281f4e",
   "metadata": {},
   "outputs": [
    {
     "name": "stdout",
     "output_type": "stream",
     "text": [
      "[0]\n"
     ]
    }
   ],
   "source": [
    "# Testing Prediction\n",
    "\n",
    "prediction = svm.predict([[5, 3, 1.6, 0.2]])\n",
    "print(prediction)"
   ]
  }
 ],
 "metadata": {
  "kernelspec": {
   "display_name": "Python 3 (ipykernel)",
   "language": "python",
   "name": "python3"
  },
  "language_info": {
   "codemirror_mode": {
    "name": "ipython",
    "version": 3
   },
   "file_extension": ".py",
   "mimetype": "text/x-python",
   "name": "python",
   "nbconvert_exporter": "python",
   "pygments_lexer": "ipython3",
   "version": "3.9.7"
  }
 },
 "nbformat": 4,
 "nbformat_minor": 5
}
