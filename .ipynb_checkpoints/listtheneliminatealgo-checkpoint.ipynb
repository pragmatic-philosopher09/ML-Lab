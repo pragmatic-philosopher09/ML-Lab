{
 "cells": [
  {
   "cell_type": "code",
   "execution_count": 1,
   "metadata": {},
   "outputs": [],
   "source": [
    "import pandas as pd\n",
    "import numpy as np"
   ]
  },
  {
   "cell_type": "code",
   "execution_count": 2,
   "metadata": {},
   "outputs": [],
   "source": [
    "attributesName = (\n",
    "    (\"sunny\", \"rainy\"),\n",
    "    (\"warm\", \"cold\"),\n",
    "    (\"normal\",\"high\"),\n",
    "    (\"strong\",\"weak\"),\n",
    "    (\"warm\", \"cool\"),\n",
    "    (\"same\", \"change\"),\n",
    "    (\"yes\", \"no\")\n",
    ")"
   ]
  },
  {
   "cell_type": "code",
   "execution_count": 3,
   "metadata": {},
   "outputs": [],
   "source": [
    "outputHypo = []\n"
   ]
  },
  {
   "cell_type": "code",
   "execution_count": 4,
   "metadata": {},
   "outputs": [],
   "source": [
    "instances = [\n",
    "    [attributesName[0][0], attributesName[1][0], attributesName[2][0], attributesName[3][0], attributesName[4][0], attributesName[5][0], attributesName[6][0]],\n",
    "    [attributesName[0][0], attributesName[1][0], attributesName[2][1], attributesName[3][0], attributesName[4][0], attributesName[5][0], attributesName[6][0]],\n",
    "    [attributesName[0][1], attributesName[1][1], attributesName[2][1], attributesName[3][0], attributesName[4][1], attributesName[5][1], attributesName[6][1]],\n",
    "    [attributesName[0][1], attributesName[1][0], attributesName[2][1], attributesName[3][0], attributesName[4][0], attributesName[5][0], attributesName[6][0]],\n",
    "    [attributesName[0][1], attributesName[1][1], attributesName[2][0], attributesName[3][1], attributesName[4][1], attributesName[5][0], attributesName[6][1]],\n",
    "    [attributesName[0][1], attributesName[1][1], attributesName[2][0], attributesName[3][0], attributesName[4][0], attributesName[5][0], attributesName[6][0]],\n",
    "    [attributesName[0][0], attributesName[1][0], attributesName[2][0], attributesName[3][0], attributesName[4][0], attributesName[5][0], attributesName[6][0]],\n",
    "    [attributesName[0][0], attributesName[1][1], attributesName[2][1], attributesName[3][1], attributesName[4][1], attributesName[5][0], attributesName[6][1]],\n",
    "    [attributesName[0][1], attributesName[1][0], attributesName[2][0], attributesName[3][1], attributesName[4][1], attributesName[5][1], attributesName[6][1]],\n",
    "    [attributesName[0][0], attributesName[1][1], attributesName[2][0], attributesName[3][0], attributesName[4][0], attributesName[5][0], attributesName[6][0]],\n",
    "    [attributesName[0][1], attributesName[1][1], attributesName[2][1], attributesName[3][0], attributesName[4][0], attributesName[5][0], attributesName[6][0]],\n",
    "    [attributesName[0][0], attributesName[1][0], attributesName[2][0], attributesName[3][1], attributesName[4][1], attributesName[5][1], attributesName[6][1]]\n",
    "\n",
    "]"
   ]
  },
  {
   "cell_type": "code",
   "execution_count": 11,
   "metadata": {},
   "outputs": [
    {
     "name": "stdout",
     "output_type": "stream",
     "text": [
      "[['sunny', 'warm', 'normal', 'strong', 'warm', 'same', 'yes'], ['sunny', 'warm', 'high', 'strong', 'warm', 'same', 'yes'], ['rainy', 'cold', 'high', 'strong', 'cool', 'change', 'no'], ['rainy', 'warm', 'high', 'strong', 'warm', 'same', 'yes'], ['rainy', 'cold', 'normal', 'weak', 'cool', 'same', 'no'], ['rainy', 'cold', 'normal', 'strong', 'warm', 'same', 'yes'], ['sunny', 'warm', 'normal', 'strong', 'warm', 'same', 'yes'], ['sunny', 'cold', 'high', 'weak', 'cool', 'same', 'no'], ['rainy', 'warm', 'normal', 'weak', 'cool', 'change', 'no'], ['sunny', 'cold', 'normal', 'strong', 'warm', 'same', 'yes'], ['rainy', 'cold', 'high', 'strong', 'warm', 'same', 'yes'], ['sunny', 'warm', 'normal', 'weak', 'cool', 'change', 'no']]\n"
     ]
    }
   ],
   "source": [
    "print(instances)"
   ]
  },
  {
   "cell_type": "code",
   "execution_count": 5,
   "metadata": {},
   "outputs": [],
   "source": [
    "def printAllInstances():\n",
    "    for r in instances:\n",
    "        for c in r:\n",
    "            print(c, end=\" \")\n",
    "        print()"
   ]
  },
  {
   "cell_type": "code",
   "execution_count": 6,
   "metadata": {},
   "outputs": [],
   "source": [
    "def printHypotheses(hypo, n):\n",
    "    print(\"h\" + str(n) + \" =<\", end=\" \")\n",
    "    for r in hypo:\n",
    "        print(r, end=\" \")\n",
    "    print(\">\")"
   ]
  },
  {
   "cell_type": "code",
   "execution_count": 7,
   "metadata": {},
   "outputs": [],
   "source": [
    "\n",
    "def isConsistentOrNot(nHypo, n):\n",
    "    for h in nHypo:\n",
    "        if h != \"?\":\n",
    "            if h != instances[n][nHypo.index(h)]:\n",
    "                return False\n",
    "    return True\n"
   ]
  },
  {
   "cell_type": "code",
   "execution_count": null,
   "metadata": {},
   "outputs": [],
   "source": []
  },
  {
   "cell_type": "code",
   "execution_count": 8,
   "metadata": {},
   "outputs": [],
   "source": [
    "def compute_ListThen_Algorithm():\n",
    "    # first hypotheses ho=< don't Care, don't Care, don't Care, don't Care, don't Care, don't Care >\n",
    "    hypotheses = [\"?\", \"?\", \"?\", \"?\",\"?\",\"?\"]\n",
    "    count = 0\n",
    "    for i in instances:\n",
    "\n",
    "        if i[len(attributesName) - 1] == \"no\":\n",
    "            if not outputHypo:\n",
    "                for attribute in range(len(attributesName) - 1):\n",
    "                    for attributeCase in attributesName[attribute]:\n",
    "                        if i[attribute] != attributeCase:\n",
    "                            outputHypo.append(list(map(lambda x: x+\"\", hypotheses)))\n",
    "                            outputHypo[count][attribute] = attributeCase\n",
    "                            #printHypotheses(outputHypo[count], count+1)\n",
    "                            count += 1\n",
    "            else:\n",
    "                # More Than one negative hypotheses\n",
    "                print(\"More Than one negative hypotheses\")\n",
    "                inconsIndex = 0\n",
    "                for nextHypo in range(len(outputHypo)):\n",
    "                    hypotheses = list(map(lambda x: x+\"\", outputHypo[inconsIndex]))\n",
    "                    inconsIndex = outputHypo.index(hypotheses)\n",
    "                    # print(hypotheses, end=\" \")\n",
    "                    # print(inconsIndex)\n",
    "\n",
    "                    if isConsistentOrNot(hypotheses, instances.index(i)):\n",
    "                        # inconsistent when true\n",
    "                        del outputHypo[inconsIndex]\n",
    "                        for attribute in range(len(attributesName) - 1):\n",
    "                            if hypotheses[attribute] == \"?\":\n",
    "                                for attributeCase in attributesName[attribute]:\n",
    "                                    if i[attribute] != attributeCase:\n",
    "                                        outputHypo.insert(inconsIndex, list(map(lambda x: x+\"\", hypotheses)))\n",
    "                                        outputHypo[inconsIndex][attribute] = attributeCase\n",
    "                                        # printHypotheses(outputHypo, inconsIndex)\n",
    "                                        inconsIndex += 1\n",
    "\n",
    "                    else:\n",
    "                        inconsIndex += 1"
   ]
  },
  {
   "cell_type": "code",
   "execution_count": 9,
   "metadata": {},
   "outputs": [
    {
     "name": "stdout",
     "output_type": "stream",
     "text": [
      "More Than one negative hypotheses\n",
      "More Than one negative hypotheses\n",
      "More Than one negative hypotheses\n",
      "More Than one negative hypotheses\n"
     ]
    }
   ],
   "source": [
    "compute_ListThen_Algorithm()"
   ]
  },
  {
   "cell_type": "code",
   "execution_count": 10,
   "metadata": {},
   "outputs": [
    {
     "name": "stdout",
     "output_type": "stream",
     "text": [
      "h1 =< sunny warm high ? ? ? >\n",
      "h2 =< sunny warm ? strong ? ? >\n",
      "h3 =< sunny warm ? ? warm ? >\n",
      "h4 =< sunny warm ? ? ? same >\n",
      "h5 =< sunny cold normal ? ? ? >\n",
      "h6 =< sunny ? normal strong ? ? >\n",
      "h7 =< sunny ? normal ? warm ? >\n",
      "h8 =< sunny ? normal ? ? same >\n",
      "h9 =< sunny ? ? strong ? ? >\n",
      "h10 =< sunny ? ? ? warm ? >\n",
      "h11 =< sunny cold ? ? ? change >\n",
      "h12 =< sunny ? high ? ? change >\n",
      "h13 =< sunny ? ? strong ? change >\n",
      "h14 =< sunny ? ? ? warm change >\n",
      "h1 =< sunny warm high ? ? ? >\n",
      "h2 =< sunny warm ? strong ? ? >\n",
      "h3 =< sunny warm ? ? warm ? >\n",
      "h4 =< sunny warm ? ? ? same >\n",
      "h19 =< ? warm high ? ? ? >\n",
      "h20 =< ? warm ? strong ? ? >\n",
      "h21 =< rainy warm ? ? warm ? >\n",
      "h22 =< ? warm high ? warm ? >\n",
      "h23 =< ? warm ? strong warm ? >\n",
      "h24 =< ? warm ? ? warm same >\n",
      "h25 =< ? warm ? ? ? same >\n",
      "h5 =< sunny cold normal ? ? ? >\n",
      "h6 =< sunny ? normal strong ? ? >\n",
      "h7 =< sunny ? normal ? warm ? >\n",
      "h8 =< sunny ? normal ? ? same >\n",
      "h30 =< rainy warm normal ? ? ? >\n",
      "h31 =< ? warm normal strong ? ? >\n",
      "h32 =< ? warm normal ? warm ? >\n",
      "h33 =< ? warm normal ? ? same >\n",
      "h34 =< ? ? normal strong ? ? >\n",
      "h35 =< ? ? normal ? warm ? >\n",
      "h36 =< rainy ? normal ? ? change >\n",
      "h37 =< ? cold normal ? ? change >\n",
      "h38 =< ? ? normal strong ? change >\n",
      "h39 =< ? ? normal ? warm change >\n",
      "h40 =< sunny cold ? weak ? ? >\n",
      "h41 =< sunny ? high weak ? ? >\n",
      "h42 =< sunny ? ? weak warm ? >\n",
      "h43 =< sunny ? ? weak ? same >\n",
      "h44 =< rainy warm ? weak ? ? >\n",
      "h45 =< ? warm high weak ? ? >\n",
      "h46 =< ? warm ? weak warm ? >\n",
      "h47 =< ? warm ? weak ? same >\n",
      "h48 =< ? ? high weak ? ? >\n",
      "h49 =< ? ? ? weak warm ? >\n",
      "h50 =< rainy ? ? weak ? change >\n",
      "h51 =< ? cold ? weak ? change >\n",
      "h52 =< ? ? high weak ? change >\n",
      "h53 =< ? ? ? weak warm change >\n",
      "h54 =< ? ? ? ? warm ? >\n",
      "h55 =< sunny ? ? ? ? same >\n",
      "h25 =< ? warm ? ? ? same >\n",
      "h57 =< ? ? high ? ? same >\n",
      "h58 =< ? ? ? strong ? same >\n",
      "h59 =< ? ? ? ? warm same >\n"
     ]
    }
   ],
   "source": [
    "for h in outputHypo:\n",
    "    printHypotheses(h, outputHypo.index(h) + 1)"
   ]
  },
  {
   "cell_type": "code",
   "execution_count": null,
   "metadata": {},
   "outputs": [],
   "source": []
  },
  {
   "cell_type": "code",
   "execution_count": null,
   "metadata": {},
   "outputs": [],
   "source": []
  }
 ],
 "metadata": {
  "kernelspec": {
   "display_name": "Python 3 (ipykernel)",
   "language": "python",
   "name": "python3"
  },
  "language_info": {
   "codemirror_mode": {
    "name": "ipython",
    "version": 3
   },
   "file_extension": ".py",
   "mimetype": "text/x-python",
   "name": "python",
   "nbconvert_exporter": "python",
   "pygments_lexer": "ipython3",
   "version": "3.9.7"
  }
 },
 "nbformat": 4,
 "nbformat_minor": 4
}
